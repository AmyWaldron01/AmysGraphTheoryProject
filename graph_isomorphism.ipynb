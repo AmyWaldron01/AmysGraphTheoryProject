{
 "cells": [
  {
   "attachments": {},
   "cell_type": "markdown",
   "metadata": {},
   "source": [
    "<h1>Graph Isomorphism </h1>\n",
    "<p1>Amy Waldron - G00395091</p1>\n",
    "<hr size=\"8\" width=\"100%\" color=\"Green\">  \n",
    "\n",
    "\n",
    "<p1>Two graphs are considered to be equal if they have the exact same distinct elements.There are situations when two graphs can \"look equal\" even when they are not, and that is the principle behind isomorphisms.(1)</p1>\n",
    "\n",
    "\n",
    "<h3>How To Tell If Two Graphs Are Isomorphic:</h3>\n",
    "<ul>\n",
    "<li>Are there the same number of edges in both graphs?</li>\n",
    "<li>Are there the same number of vertices in both graphs?</li>\n",
    "<li>Are the degree sequence in both graphs the same?</li>\n",
    "<li>If two graphs have equal cycle length?(1)</li>\n",
    "</ul>\n",
    "<p1>If so , your graphs are isomorphic. Basically the graphs are equal, just in a different structure</p1>\n",
    "<hr size=\"8\" width=\"100%\" color=\"red\">  \n"
   ]
  },
  {
   "attachments": {},
   "cell_type": "markdown",
   "metadata": {},
   "source": [
    "<h1>Demonstration Of Isomorphic Graphs</h1>\n",
    "<h2>Below Is Two Graphs</h2>\n",
    "<img>\n",
    "<img src=\"https://calcworkshop.com/wp-content/uploads/how-to-tell-if-two-graphs-are-isomorphic.png\">\n",
    "<h3>Testing</h3>\n",
    "<ul>\n",
    "<li>Each graph has 4 vertices.</li>\n",
    "<li>Each graph has 4 edges.</li>\n",
    "<li>In each graph the vertex is a degree of 2 </li>\n",
    "<li>Each graphs cycle lenght is 4</li>\n",
    "</ul>\n",
    "\n",
    "<p1>I have proven that these two graphs are isomorphic.</p1><br>\n",
    "<p1>The graphs are equal, just in a different layout</p1>\n",
    "<hr size=\"8\" width=\"100%\" color=\"red\">  \n",
    "\n"
   ]
  },
  {
   "attachments": {},
   "cell_type": "markdown",
   "metadata": {},
   "source": [
    "<h1>References</h1>\n",
    "<p1>1.https://calcworkshop.com/trees-graphs/isomorphic-graph/</p1>"
   ]
  },
  {
   "attachments": {},
   "cell_type": "markdown",
   "metadata": {},
   "source": [
    "Output<h1>Step 1</h1>\n",
    "<h2>Step 2</h2>\n",
    "<ul>\n",
    "<li>item 1</li>\n",
    "<li>item 2</li>\n",
    "</ul>\n",
    "<p>Visit <a href=\"https://www.digitalocean.com/community/tutorials\">the tutorials page</a> for more tutorials!</p>"
   ]
  },
  {
   "cell_type": "code",
   "execution_count": null,
   "metadata": {},
   "outputs": [
    {
     "name": "stdout",
     "output_type": "stream",
     "text": [
      "1\n"
     ]
    }
   ],
   "source": [
    "a =1 \n",
    "\n",
    "print (a)\n",
    "# //Shift enter"
   ]
  }
 ],
 "metadata": {
  "kernelspec": {
   "display_name": "base",
   "language": "python",
   "name": "python3"
  },
  "language_info": {
   "codemirror_mode": {
    "name": "ipython",
    "version": 3
   },
   "file_extension": ".py",
   "mimetype": "text/x-python",
   "name": "python",
   "nbconvert_exporter": "python",
   "pygments_lexer": "ipython3",
   "version": "3.9.13"
  },
  "orig_nbformat": 4,
  "vscode": {
   "interpreter": {
    "hash": "a5f91edb47c94bae8b2df3862457a90148dd7c5940b985aed4cfdeebc889c7ae"
   }
  }
 },
 "nbformat": 4,
 "nbformat_minor": 2
}
