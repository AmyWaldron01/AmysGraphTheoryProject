{
 "cells": [
  {
   "attachments": {},
   "cell_type": "markdown",
   "metadata": {},
   "source": [
    "<h1>Graph Isomorphism </h1>\n",
    "<p1>Amy Waldron - G00395091</p1>\n",
    "<hr size=\"6\" width=\"100%\" color=\"Green\">  \n",
    "\n",
    "\n",
    "<p1>Two graphs are considered to be equal if they have the exact same distinct elements.There are situations when two graphs can \"look equal\" even when they are not, and that is the principle behind isomorphisms.(1)</p1>\n",
    "\n",
    "\n",
    "<h3>How To Tell If Two Graphs Are Isomorphic:</h3>\n",
    "<ul>\n",
    "<li>Are there the same number of edges in both graphs?</li>\n",
    "<li>Are there the same number of vertices in both graphs?</li>\n",
    "<li>Are the degree sequence in both graphs the same?</li>\n",
    "<li>If two graphs have equal cycle length?(1)</li>\n",
    "</ul>\n",
    "<p1>If so , your graphs are isomorphic. Basically the graphs are equal, just in a different structure</p1>\n",
    "<hr size=\"6\" width=\"100%\" color=\"red\">  \n"
   ]
  },
  {
   "attachments": {},
   "cell_type": "markdown",
   "metadata": {},
   "source": [
    "<h1>Demonstration Of Isomorphic Graphs</h1>\n",
    "<h2>Below Is Two Graphs</h2>\n",
    "<img>\n",
    "<img src=\"graphs.jpg\">\n",
    "<h3>Testing</h3>\n",
    "<ul>\n",
    "<li>Each graph has 4 vertices.</li>\n",
    "<li>Each graph has 4 edges.</li>\n",
    "<li>In each graph the vertex is a degree of 2 </li>\n",
    "<li>Each graphs cycle lenght is 4</li>\n",
    "</ul>\n",
    "\n",
    "<p1>I have proven that these two graphs are isomorphic.</p1><br>\n",
    "<p1>The graphs are equal, just in a different layout</p1>\n",
    "<hr size=\"6\" width=\"100%\" color=\"red\">  \n",
    "\n"
   ]
  },
  {
   "attachments": {},
   "cell_type": "markdown",
   "metadata": {},
   "source": [
    "<h1>Using Python to Implementation Graph Isomorphism [2]</h1>"
   ]
  },
  {
   "cell_type": "code",
   "execution_count": 118,
   "metadata": {},
   "outputs": [],
   "source": [
    "# imports\n",
    "import numpy as np\n",
    "import networkx as nx\n",
    "import itertools \n",
    "\n",
    "# setting up the graph\n",
    "params = {'node_color': 'lightgreen', 'node_size' : 500, 'font_size': 15, 'with_labels': True}"
   ]
  },
  {
   "cell_type": "code",
   "execution_count": 119,
   "metadata": {},
   "outputs": [
    {
     "data": {
      "image/png": "[encoded data removed]",
      "text/plain": [
       "<Figure size 640x480 with 1 Axes>"
      ]
     },
     "metadata": {},
     "output_type": "display_data"
    }
   ],
   "source": [
    "# two  graphs\n",
    "G1 = nx.Graph()\n",
    "\n",
    "G2 = nx.Graph()\n",
    "\n",
    "# creates the edges\n",
    "e1 = ((0, 5) , (1, 2) , (2, 3) , (3, 4), (4, 1), (5,4))\n",
    "\n",
    "e2 = ((0, 2) , (1, 5) , (2, 4) , (3, 4), (4,5), (5,0))\n",
    "\n",
    "# adds the edges.\n",
    "G1.add_edges_from(e1)\n",
    "\n",
    "G2.add_edges_from(e2)\n",
    "\n",
    "# drawing graph 1\n",
    "nx.draw_circular(G1, **params)"
   ]
  },
  {
   "cell_type": "code",
   "execution_count": 120,
   "metadata": {},
   "outputs": [
    {
     "data": {
      "image/png": "[encoded data removed]",
      "text/plain": [
       "<Figure size 640x480 with 1 Axes>"
      ]
     },
     "metadata": {},
     "output_type": "display_data"
    }
   ],
   "source": [
    "#drawing graph 2\n",
    "nx.draw_circular(G2, **params)"
   ]
  },
  {
   "cell_type": "code",
   "execution_count": 121,
   "metadata": {},
   "outputs": [
    {
     "name": "stdout",
     "output_type": "stream",
     "text": [
      "G1 and G2 are not isomorphic\n"
     ]
    }
   ],
   "source": [
    "# Finding the matrices of the 2 graphs\n",
    "M1 = nx.to_numpy_array(G1).astype(np.uint8)\n",
    "M2 = nx.to_numpy_array(G2).astype(np.uint8)\n",
    "\n",
    "# Check if G1 and G2 are isomorphic\n",
    "if nx.is_isomorphic(G1, G2):\n",
    "    print(\"G1 and G2 are isomorphic\")\n",
    "else:\n",
    "    print(\"G1 and G2 are not isomorphic\")"
   ]
  },
  {
   "attachments": {},
   "cell_type": "markdown",
   "metadata": {},
   "source": [
    "<hr size=\"6\" width=\"100%\" color=\"red\">\n",
    "<h1>References</h1>\n",
    "<p1>1.https://calcworkshop.com/trees-graphs/isomorphic-graph/</p1> <br>\n",
    "<p1>2.https://networkx.org/documentation/stable/reference/algorithms/isomorphism.html</p1>"
   ]
  },
  {
   "attachments": {},
   "cell_type": "markdown",
   "metadata": {},
   "source": [
    "Output<h1>Step 1</h1>\n",
    "<h2>Step 2</h2>\n",
    "<ul>\n",
    "<li>item 1</li>\n",
    "<li>item 2</li>\n",
    "</ul>\n",
    "<p>Visit <a href=\"https://www.digitalocean.com/community/tutorials\">the tutorials page</a> for more tutorials!</p>"
   ]
  },
  {
   "cell_type": "code",
   "execution_count": 122,
   "metadata": {},
   "outputs": [
    {
     "name": "stdout",
     "output_type": "stream",
     "text": [
      "1\n"
     ]
    }
   ],
   "source": [
    "a =1 \n",
    "\n",
    "print (a)\n",
    "# //Shift enter"
   ]
  }
 ],
 "metadata": {
  "kernelspec": {
   "display_name": "base",
   "language": "python",
   "name": "python3"
  },
  "language_info": {
   "codemirror_mode": {
    "name": "ipython",
    "version": 3
   },
   "file_extension": ".py",
   "mimetype": "text/x-python",
   "name": "python",
   "nbconvert_exporter": "python",
   "pygments_lexer": "ipython3",
   "version": "3.9.13"
  },
  "orig_nbformat": 4,
  "vscode": {
   "interpreter": {
    "hash": "a5f91edb47c94bae8b2df3862457a90148dd7c5940b985aed4cfdeebc889c7ae"
   }
  }
 },
 "nbformat": 4,
 "nbformat_minor": 2
}
